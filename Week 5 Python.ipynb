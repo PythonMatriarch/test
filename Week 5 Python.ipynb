{
 "cells": [
  {
   "cell_type": "markdown",
   "id": "340acb54",
   "metadata": {},
   "source": [
    "# Week 5 Python"
   ]
  },
  {
   "cell_type": "code",
   "execution_count": 1,
   "id": "ac697dfa",
   "metadata": {},
   "outputs": [
    {
     "name": "stdout",
     "output_type": "stream",
     "text": [
      "Hello World!\n"
     ]
    }
   ],
   "source": [
    "print(\"Hello World!\")"
   ]
  },
  {
   "cell_type": "code",
   "execution_count": 3,
   "id": "7af03a85",
   "metadata": {},
   "outputs": [
    {
     "name": "stdout",
     "output_type": "stream",
     "text": [
      "0\n",
      "1\n",
      "2\n",
      "3\n",
      "4\n"
     ]
    }
   ],
   "source": [
    "for x in range(10):\n",
    "    if x < 5:\n",
    "        print(x)\n",
    "    else :\n",
    "        pass"
   ]
  },
  {
   "cell_type": "code",
   "execution_count": 4,
   "id": "aa1beb1f",
   "metadata": {},
   "outputs": [],
   "source": [
    "wrong_data = '100'"
   ]
  },
  {
   "cell_type": "code",
   "execution_count": 5,
   "id": "713fa5a8",
   "metadata": {},
   "outputs": [
    {
     "data": {
      "text/plain": [
       "str"
      ]
     },
     "execution_count": 5,
     "metadata": {},
     "output_type": "execute_result"
    }
   ],
   "source": [
    "type(wrong_data)"
   ]
  },
  {
   "cell_type": "code",
   "execution_count": 6,
   "id": "a8aefdfd",
   "metadata": {},
   "outputs": [
    {
     "data": {
      "text/plain": [
       "0.0"
      ]
     },
     "execution_count": 6,
     "metadata": {},
     "output_type": "execute_result"
    }
   ],
   "source": [
    "float()"
   ]
  },
  {
   "cell_type": "code",
   "execution_count": 7,
   "id": "ef7316dd",
   "metadata": {},
   "outputs": [
    {
     "data": {
      "text/plain": [
       "100.0"
      ]
     },
     "execution_count": 7,
     "metadata": {},
     "output_type": "execute_result"
    }
   ],
   "source": [
    "float(wrong_data)"
   ]
  },
  {
   "cell_type": "code",
   "execution_count": 9,
   "id": "589dbccd",
   "metadata": {},
   "outputs": [
    {
     "data": {
      "text/plain": [
       "100"
      ]
     },
     "execution_count": 9,
     "metadata": {},
     "output_type": "execute_result"
    }
   ],
   "source": [
    "int(wrong_data)"
   ]
  },
  {
   "cell_type": "code",
   "execution_count": 10,
   "id": "a7ff8ba9",
   "metadata": {},
   "outputs": [
    {
     "data": {
      "text/plain": [
       "100.0"
      ]
     },
     "execution_count": 10,
     "metadata": {},
     "output_type": "execute_result"
    }
   ],
   "source": [
    "float(wrong_data)"
   ]
  },
  {
   "cell_type": "code",
   "execution_count": 12,
   "id": "788fbcc1",
   "metadata": {
    "scrolled": false
   },
   "outputs": [],
   "source": [
    "x = -0.05"
   ]
  },
  {
   "cell_type": "code",
   "execution_count": 13,
   "id": "9ea68551",
   "metadata": {},
   "outputs": [
    {
     "name": "stdout",
     "output_type": "stream",
     "text": [
      "0 -0.1 -0.05\n"
     ]
    }
   ],
   "source": [
    "print(round(x), round(x, 1), round(x, 2))"
   ]
  },
  {
   "cell_type": "code",
   "execution_count": 14,
   "id": "fc031710",
   "metadata": {},
   "outputs": [
    {
     "name": "stdout",
     "output_type": "stream",
     "text": [
      "What's your name?\n",
      "Amy\n",
      "What's your age?\n",
      "23\n",
      "Hello, my name is Amy and I am 23 years old!\n"
     ]
    }
   ],
   "source": [
    "# create a variable store name\n",
    "# input will return whatever input by user.\n",
    "print(\"What's your name?\")\n",
    "my_name = input()\n",
    "print(\"What's your age?\")\n",
    "# input function outputs string now\n",
    "my_age = input()\n",
    "print(\"Hello, my name is {} and I am {} years old!\".format(my_name, my_age))\n",
    "# use {} to print words and %d to print numbers"
   ]
  },
  {
   "cell_type": "code",
   "execution_count": null,
   "id": "b17d523e",
   "metadata": {},
   "outputs": [
    {
     "name": "stdout",
     "output_type": "stream",
     "text": [
      "What is your name?\n"
     ]
    }
   ],
   "source": [
    "print(\"What is your name?\")\n",
    "my_name = input()\n",
    "print(\"How old are you?\")\n",
    "my_age = input()\n",
    "print(\"Hi! my name is {} and I'm {} years old!\".format(my_name, my_age))"
   ]
  },
  {
   "cell_type": "code",
   "execution_count": null,
   "id": "9654d7a3",
   "metadata": {},
   "outputs": [],
   "source": [
    "v = [0.5, 0.75, 1.0, 1.5, 2.0]\n",
    "v"
   ]
  },
  {
   "cell_type": "code",
   "execution_count": null,
   "id": "707d602d",
   "metadata": {},
   "outputs": [],
   "source": []
  }
 ],
 "metadata": {
  "kernelspec": {
   "display_name": "Python 3",
   "language": "python",
   "name": "python3"
  },
  "language_info": {
   "codemirror_mode": {
    "name": "ipython",
    "version": 3
   },
   "file_extension": ".py",
   "mimetype": "text/x-python",
   "name": "python",
   "nbconvert_exporter": "python",
   "pygments_lexer": "ipython3",
   "version": "3.8.8"
  }
 },
 "nbformat": 4,
 "nbformat_minor": 5
}
