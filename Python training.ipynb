{
 "cells": [
  {
   "cell_type": "markdown",
   "id": "2ad3f9eb",
   "metadata": {},
   "source": [
    "# Training Python"
   ]
  },
  {
   "cell_type": "code",
   "execution_count": 1,
   "id": "af86199a",
   "metadata": {},
   "outputs": [],
   "source": [
    "singers = \"Peter, Paul, and Mary\""
   ]
  },
  {
   "cell_type": "code",
   "execution_count": 2,
   "id": "0d82c5e4",
   "metadata": {},
   "outputs": [
    {
     "name": "stdout",
     "output_type": "stream",
     "text": [
      "t\n"
     ]
    }
   ],
   "source": [
    "print(singers[2])"
   ]
  },
  {
   "cell_type": "code",
   "execution_count": 3,
   "id": "a424d2ab",
   "metadata": {},
   "outputs": [
    {
     "name": "stdout",
     "output_type": "stream",
     "text": [
      "Peter\n"
     ]
    }
   ],
   "source": [
    "print(singers[0:5])\t"
   ]
  },
  {
   "cell_type": "code",
   "execution_count": 4,
   "id": "4879fdfb",
   "metadata": {},
   "outputs": [
    {
     "name": "stdout",
     "output_type": "stream",
     "text": [
      "Paul\n"
     ]
    }
   ],
   "source": [
    "print(singers[7:11]) "
   ]
  },
  {
   "cell_type": "code",
   "execution_count": 5,
   "id": "cfd0aee4",
   "metadata": {},
   "outputs": [
    {
     "name": "stdout",
     "output_type": "stream",
     "text": [
      "Mary\n"
     ]
    }
   ],
   "source": [
    "print(singers[17:21]) "
   ]
  },
  {
   "cell_type": "code",
   "execution_count": 7,
   "id": "ce01236a",
   "metadata": {},
   "outputs": [],
   "source": [
    "greeting = 'Hello, world!'"
   ]
  },
  {
   "cell_type": "code",
   "execution_count": 8,
   "id": "8dc1430b",
   "metadata": {},
   "outputs": [],
   "source": [
    "new_greeting = 'J' + greeting[1:]  "
   ]
  },
  {
   "cell_type": "code",
   "execution_count": 9,
   "id": "b6b58538",
   "metadata": {},
   "outputs": [
    {
     "name": "stdout",
     "output_type": "stream",
     "text": [
      "Jello, world!\n"
     ]
    }
   ],
   "source": [
    "print(new_greeting)  "
   ]
  },
  {
   "cell_type": "code",
   "execution_count": 10,
   "id": "5a04563f",
   "metadata": {},
   "outputs": [
    {
     "name": "stdout",
     "output_type": "stream",
     "text": [
      "Hello, world!\n"
     ]
    }
   ],
   "source": [
    "print(greeting)  "
   ]
  },
  {
   "cell_type": "code",
   "execution_count": 12,
   "id": "b1795545",
   "metadata": {},
   "outputs": [],
   "source": [
    "word = 'banana'"
   ]
  },
  {
   "cell_type": "code",
   "execution_count": 13,
   "id": "3171f443",
   "metadata": {},
   "outputs": [],
   "source": [
    "new_word = word.upper()\n"
   ]
  },
  {
   "cell_type": "code",
   "execution_count": 14,
   "id": "abf00933",
   "metadata": {},
   "outputs": [
    {
     "name": "stdout",
     "output_type": "stream",
     "text": [
      "BANANA\n"
     ]
    }
   ],
   "source": [
    "print(new_word)\t"
   ]
  },
  {
   "cell_type": "code",
   "execution_count": 15,
   "id": "568691ea",
   "metadata": {},
   "outputs": [],
   "source": [
    "word = 'banana' \n"
   ]
  },
  {
   "cell_type": "code",
   "execution_count": 17,
   "id": "b6b1bbd7",
   "metadata": {},
   "outputs": [
    {
     "name": "stdout",
     "output_type": "stream",
     "text": [
      "They match.\n"
     ]
    }
   ],
   "source": [
    "if word == 'banana':\n",
    "    print('They match.')"
   ]
  },
  {
   "cell_type": "code",
   "execution_count": 19,
   "id": "66b612e2",
   "metadata": {},
   "outputs": [],
   "source": [
    "s = \"Ball\""
   ]
  },
  {
   "cell_type": "code",
   "execution_count": 21,
   "id": "1b104916",
   "metadata": {},
   "outputs": [
    {
     "ename": "TypeError",
     "evalue": "'str' object does not support item assignment",
     "output_type": "error",
     "traceback": [
      "\u001b[0;31m---------------------------------------------------------------------------\u001b[0m",
      "\u001b[0;31mTypeError\u001b[0m                                 Traceback (most recent call last)",
      "\u001b[0;32m<ipython-input-21-360fc00347ef>\u001b[0m in \u001b[0;36m<module>\u001b[0;34m\u001b[0m\n\u001b[0;32m----> 1\u001b[0;31m \u001b[0ms\u001b[0m\u001b[0;34m[\u001b[0m\u001b[0;36m0\u001b[0m\u001b[0;34m]\u001b[0m \u001b[0;34m=\u001b[0m \u001b[0;34m\"C\"\u001b[0m\u001b[0;34m\u001b[0m\u001b[0;34m\u001b[0m\u001b[0m\n\u001b[0m",
      "\u001b[0;31mTypeError\u001b[0m: 'str' object does not support item assignment"
     ]
    }
   ],
   "source": [
    "s[0] = \"C\""
   ]
  },
  {
   "cell_type": "code",
   "execution_count": null,
   "id": "e5d9fa85",
   "metadata": {},
   "outputs": [],
   "source": []
  }
 ],
 "metadata": {
  "kernelspec": {
   "display_name": "Python 3",
   "language": "python",
   "name": "python3"
  },
  "language_info": {
   "codemirror_mode": {
    "name": "ipython",
    "version": 3
   },
   "file_extension": ".py",
   "mimetype": "text/x-python",
   "name": "python",
   "nbconvert_exporter": "python",
   "pygments_lexer": "ipython3",
   "version": "3.8.8"
  }
 },
 "nbformat": 4,
 "nbformat_minor": 5
}
